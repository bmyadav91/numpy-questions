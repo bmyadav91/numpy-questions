{
 "cells": [
  {
   "cell_type": "code",
   "execution_count": 8,
   "id": "6d2b2557-d7d7-40e1-8966-35cde00c937a",
   "metadata": {},
   "outputs": [],
   "source": [
    "import numpy as np"
   ]
  },
  {
   "cell_type": "code",
   "execution_count": 4,
   "id": "3ef3a92a-c6bb-4f99-9953-99c333d4d8f6",
   "metadata": {},
   "outputs": [
    {
     "name": "stdout",
     "output_type": "stream",
     "text": [
      "Suppose Fetch Github API Email URL: https://api.github.com/user/emails\n"
     ]
    }
   ],
   "source": [
    "# 1. What is a Python library? Why do we use Python libraries?\n",
    "# Ans: A Python library is a collection of pre-written code that developers can use to perform common tasks, making programming more efficient and less error-prone. Libraries provide reusable modules and functions for specific purposes, allowing you to avoid writing code from scratch for common functionalities. Here are some key points about Python libraries:\n",
    "# Modularity: Libraries are organized into modules, which are files containing Python definitions and statements. These modules can be imported and used in your programs.\n",
    "# Reusability: By using libraries, you can reuse existing, well-tested code instead of reinventing the wheel. This saves time and effort.\n",
    "# Efficiency: Libraries often contain optimized and efficient implementations of algorithms and functions, which can improve the performance of your programs\n",
    "# Specialization: There are libraries for a wide range of tasks, such as data analysis (e.g., Pandas, NumPy), web development (e.g., Django, Flask), machine learning (e.g., TensorFlow, scikit-learn), and more.\n",
    "\n",
    "# ---Why Do We Use Python Libraries?--\n",
    "# Ans:\n",
    "# Simplicity: Libraries simplify the development process by providing ready-made solutions for common tasks.\n",
    "# Reliability: Libraries are usually well-tested and debugged, reducing the likelihood of errors in your code.\n",
    "# Productivity: By leveraging libraries, developers can focus on solving higher-level problems instead of dealing with low-level details.\n",
    "\n",
    "# ---example---\n",
    "import requests\n",
    "\n",
    "response = requests.get('https://api.github.com')\n",
    "if response.status_code == 200:\n",
    "    print('Suppose Fetch Github API Email URL:', response.json()['emails_url'])\n",
    "else:\n",
    "    print('An error occurred.')\n"
   ]
  },
  {
   "cell_type": "code",
   "execution_count": 15,
   "id": "800e2309-b23c-464e-99b3-65bf8a125057",
   "metadata": {},
   "outputs": [
    {
     "name": "stdout",
     "output_type": "stream",
     "text": [
      "Numpy Multiply Array with 2: [2 4 6 8]\n",
      "in list After Manualy multiply with 2: [2, 4, 6, 8]\n"
     ]
    }
   ],
   "source": [
    "# 2. What is the difference between Numpy array and List?\n",
    "# Ans: NumPy arrays and Python lists are both used to store collections of data, but they have significant differences in terms of functionality, performance, and use cases. Here are the key differences:\n",
    "\n",
    "# ---Numpy---\n",
    "# NumPy Array: Elements in a NumPy array are of the same data type, which allows for efficient storage and operations.\n",
    "# NumPy Array: NumPy arrays are more memory efficient and faster for numerical computations because they use contiguous memory blocks and are implemented in C.\n",
    "# NumPy Array: Provides a wide range of mathematical, logical, and statistical operations. It supports multi-dimensional arrays, which are essential for scientific computing.\n",
    "# NumPy Array: Supports advanced slicing and indexing, including boolean indexing and multi-dimensional slicing.\n",
    "\n",
    "# Numpy example -------\n",
    "# Creating a NumPy array\n",
    "arr = np.array([1, 2, 3, 4])\n",
    "# Element-wise operations\n",
    "arr2 = arr * 2\n",
    "print(\"Numpy Multiply Array with 2:\",arr2)\n",
    "\n",
    "#-------python list------\n",
    "# Python List: Elements in a Python list can be of different data types (e.g., integers, floats, strings, objects).\n",
    "# Python List: Lists are less efficient for numerical operations as they are implemented as dynamic arrays with additional overhead.\n",
    "# Python List: Provides basic functionalities for data storage and manipulation but lacks advanced mathematical operations and multi-dimensional capabilities.\n",
    "# Python List: Uses more memory because it stores elements as separate objects with pointers to each element, resulting in additional overhead.\n",
    "# Python List: Supports basic slicing and indexing, but lacks the advanced features provided by NumPy arrays.\n",
    "\n",
    "#python list example ------\n",
    "# Creating a Python list\n",
    "lst = [1, 2, 3, 4]\n",
    "# Element-wise operations (must be done manually)\n",
    "lst2 = [x * 2 for x in lst]\n",
    "print(\"in list After Manualy multiply with 2:\",lst2)"
   ]
  },
  {
   "cell_type": "code",
   "execution_count": 16,
   "id": "64562b43-9895-4902-9184-a326c8327c0e",
   "metadata": {},
   "outputs": [
    {
     "name": "stdout",
     "output_type": "stream",
     "text": [
      "Array Shape: (3, 4)\n",
      "Array Size: 12\n",
      "Array Dimension: 2\n"
     ]
    }
   ],
   "source": [
    "# 3. Find the shape, size and dimension of the following array?\n",
    "arr = np.array([[1, 2, 3, 4],\n",
    "                [5, 6, 7, 8],\n",
    "                [9, 10, 11, 12]])\n",
    "\n",
    "print(f\"Array Shape: {arr.shape}\")\n",
    "print(f\"Array Size: {arr.size}\")\n",
    "print(f\"Array Dimension: {arr.ndim}\")"
   ]
  },
  {
   "cell_type": "code",
   "execution_count": 17,
   "id": "1c907f6e-2f1d-44d0-a56f-6a3f767875ad",
   "metadata": {},
   "outputs": [
    {
     "name": "stdout",
     "output_type": "stream",
     "text": [
      "First row is: [1, 2, 3, 4]\n"
     ]
    }
   ],
   "source": [
    "# 4. Write python code to access the first row of the following array?\n",
    "arr = [[1, 2, 3, 4],\n",
    "[5, 6, 7, 8],\n",
    "[9, 10, 11, 12]]\n",
    "\n",
    "print(f\"First row is: {arr[0]}\")"
   ]
  },
  {
   "cell_type": "code",
   "execution_count": 22,
   "id": "1503048b-7765-4aaf-8880-692d033254ec",
   "metadata": {},
   "outputs": [
    {
     "name": "stdout",
     "output_type": "stream",
     "text": [
      "Element at third row and fourth column: 12\n"
     ]
    }
   ],
   "source": [
    "# 5. How do you access the element at the third row and fourth column from the given numpy array?\n",
    "# Ans: To access the element at the third row and fourth column from the given NumPy array, we can use zero-based indexing. This means the first row is indexed as 0, the second row as 1, and the third row as 2. Similarly, the first column is indexed as 0, the second column as 1, the third column as 2, and the fourth column as 3.\n",
    "# Example\n",
    "arr = np.array([[1, 2, 3, 4],\n",
    "                [5, 6, 7, 8],\n",
    "                [9, 10, 11, 12]])\n",
    "\n",
    "element = arr[2, 3]\n",
    "\n",
    "print(f\"Element at third row and fourth column: {element}\")"
   ]
  },
  {
   "cell_type": "code",
   "execution_count": 19,
   "id": "9fd9a1ff-4751-48a2-a8b9-91b2ff144336",
   "metadata": {},
   "outputs": [
    {
     "name": "stdout",
     "output_type": "stream",
     "text": [
      "Odd Indexes Are: [ 1  3  5  7  9 11]\n"
     ]
    }
   ],
   "source": [
    "# 6. Write code to extract all odd-indexed elements from the given numpy array?\n",
    "arr = np.array([[1, 2, 3, 4],\n",
    "[5, 6, 7, 8],\n",
    "[9, 10, 11, 12]])\n",
    "\n",
    "array_flatten = arr.flatten()\n",
    "odd_indexed_element = array_flatten[::2]\n",
    "print(f\"Odd Indexes Are: {odd_indexed_element}\")"
   ]
  },
  {
   "cell_type": "code",
   "execution_count": 23,
   "id": "ec67cac9-6948-465c-b624-b8f0db129c58",
   "metadata": {},
   "outputs": [
    {
     "name": "stdout",
     "output_type": "stream",
     "text": [
      "[[0.49573848 0.26192447 0.77597529]\n",
      " [0.31842173 0.20182524 0.91427571]\n",
      " [0.44023076 0.47745542 0.20210922]]\n"
     ]
    }
   ],
   "source": [
    "# 7. How can you generate a random 3x3 matrix with values between 0 and 1?\n",
    "# Ans: We can generate a random 3x3 matrix with values between 0 and 1 using the numpy library, specifically the numpy.random.rand function. This function creates an array of the given shape and populates it with random samples from a uniform distribution over [0, 1).\n",
    "# Example\n",
    "arr = np.random.rand(3,3)\n",
    "print(arr)"
   ]
  },
  {
   "cell_type": "code",
   "execution_count": 25,
   "id": "5e1f6dcf-71c7-4424-9534-c6882d7d9085",
   "metadata": {},
   "outputs": [
    {
     "name": "stdout",
     "output_type": "stream",
     "text": [
      "Uniform distribution (0 to 1):\n",
      "[[0.47285398 0.00139514 0.81413536]\n",
      " [0.19474576 0.41684164 0.82021134]\n",
      " [0.41204226 0.97954159 0.64596308]]\n",
      "Standard normal distribution (mean=0, std=1):\n",
      "[[-0.21412034  0.69752127 -1.6692382 ]\n",
      " [-0.84129609  1.15759545 -0.39546173]\n",
      " [ 1.38426288  0.53610472 -2.21610206]]\n"
     ]
    }
   ],
   "source": [
    "# 8. Describe the difference between np.random.rand and np.random.randn?\n",
    "# Ans: The functions np.random.rand and np.random.randn from the NumPy library are both used to generate arrays of random numbers, but they generate numbers from different distributions.\n",
    "\n",
    "#--------- np.random.rand----------:\n",
    "# np.random.rand(d0, d1, ..., dn) generates an array of shape (d0, d1, ..., dn) with random floats in the half-open interval [0, 1).\n",
    "# np.random.rand is Uniform distribution.\n",
    "\n",
    "# example\n",
    "uniform_matrix = np.random.rand(3, 3)\n",
    "print(\"Uniform distribution (0 to 1):\")\n",
    "print(uniform_matrix)\n",
    "\n",
    "# ----------np.random.randn--------:\n",
    "# np.random.randn(d0, d1, ..., dn) generates an array of shape (d0, d1, ..., dn) with samples from the standard normal distribution.\n",
    "# np.random.randn is Standard normal distribution (Gaussian).\n",
    "# np.random.randn Range: Values can be any real number, but most will fall within a few standard deviations from the mean (approximately -3 to 3).\n",
    "\n",
    "# example\n",
    "normal_matrix = np.random.randn(3, 3)\n",
    "print(\"Standard normal distribution (mean=0, std=1):\")\n",
    "print(normal_matrix)"
   ]
  },
  {
   "cell_type": "code",
   "execution_count": 21,
   "id": "6114390e-622e-42bd-948c-a5fc24f2d5d3",
   "metadata": {},
   "outputs": [
    {
     "name": "stdout",
     "output_type": "stream",
     "text": [
      "[[[ 1  2  3  4]\n",
      "  [ 5  6  7  8]\n",
      "  [ 9 10 11 12]]]\n"
     ]
    }
   ],
   "source": [
    "# 9. Write code to increase the dimension of the following array?\n",
    "arr = np.array([[1, 2, 3, 4],\n",
    "[5, 6, 7, 8],\n",
    "[9, 10, 11, 12]])\n",
    "\n",
    "increase_dimension = np.expand_dims(arr, axis = 0)\n",
    "print(increase_dimension)"
   ]
  },
  {
   "cell_type": "code",
   "execution_count": 26,
   "id": "1811e660-3426-4e1f-9a3e-cbce607ea436",
   "metadata": {},
   "outputs": [
    {
     "name": "stdout",
     "output_type": "stream",
     "text": [
      "[[ 1  5  9]\n",
      " [ 2  6 10]\n",
      " [ 3  7 11]\n",
      " [ 4  8 12]]\n"
     ]
    }
   ],
   "source": [
    "# 10. How to transpose the following array in NumPy?\n",
    "# Ans: In NumPy, We can transpose an array using the numpy.transpose function or the .T attribute. Transposing an array swaps its rows and columns.\n",
    "\n",
    "# Example\n",
    "arr = np.array([[1, 2, 3, 4],\n",
    "[5, 6, 7, 8],\n",
    "[9, 10, 11, 12]])\n",
    "\n",
    "tenasposed_array = np.transpose(arr)\n",
    "print(tenasposed_array)"
   ]
  },
  {
   "cell_type": "code",
   "execution_count": 27,
   "id": "a2249cf6-995e-46c4-b686-63a15bd06c81",
   "metadata": {},
   "outputs": [
    {
     "name": "stdout",
     "output_type": "stream",
     "text": [
      "Index Wise Multiplication:\n",
      " [[  1   4   9  16]\n",
      " [ 25  36  49  64]\n",
      " [ 81 100 121 144]]\n",
      "Matix multiplication:\n",
      " [[ 70  80  90]\n",
      " [158 184 210]\n",
      " [246 288 330]]\n",
      "Addition Array:\n",
      " [[ 2  4  6  8]\n",
      " [10 12 14 16]\n",
      " [18 20 22 24]]\n",
      "Substraction From B to A:\n",
      " [[ 2  4  6  8]\n",
      " [10 12 14 16]\n",
      " [18 20 22 24]]\n",
      "Division Array:\n",
      "[[1. 1. 1. 1.]\n",
      " [1. 1. 1. 1.]\n",
      " [1. 1. 1. 1.]]\n"
     ]
    }
   ],
   "source": [
    "# 11. Consider the following matrix:\n",
    "Matrix_A2 = np.array([[1, 2, 3, 4], [5, 6, 7, 8],[9, 10, 11, 12]])\n",
    "Matrix_B2 = np.array([[1, 2, 3, 4], [5, 6, 7, 8],[9, 10, 11, 12]])\n",
    "\n",
    "# Idex wise multiplication\n",
    "array_multiply = Matrix_A2 * Matrix_B2\n",
    "print(f\"Index Wise Multiplication:\\n {array_multiply}\")\n",
    "\n",
    "# Matix multiplication\n",
    "Matrix_A2 = np.array([[1, 2, 3, 4], \n",
    "                      [5, 6, 7, 8], \n",
    "                      [9, 10, 11, 12]])\n",
    "\n",
    "Matrix_B2 = np.array([[1, 2, 3], \n",
    "                      [4, 5, 6], \n",
    "                      [7, 8, 9], \n",
    "                      [10, 11, 12]])\n",
    "matrix_multiply = Matrix_A2 @ Matrix_B2\n",
    "print(f\"Matix multiplication:\\n {matrix_multiply}\")\n",
    "\n",
    "# Add both the matrix\n",
    "Matrix_A2 = np.array([[1, 2, 3, 4], [5, 6, 7, 8],[9, 10, 11, 12]])\n",
    "Matrix_B2 = np.array([[1, 2, 3, 4], [5, 6, 7, 8],[9, 10, 11, 12]])\n",
    "addition_array = Matrix_A2 + Matrix_B2\n",
    "print(f\"Addition Array:\\n {addition_array}\")\n",
    "\n",
    "# Subtact matrix B from A\n",
    "substraction_array = Matrix_A2 - Matrix_B2\n",
    "print(f\"Substraction From B to A:\\n {addition_array}\")\n",
    "\n",
    "# Devide Matrix B by A\n",
    "division_array = Matrix_B2 / Matrix_A2\n",
    "print(f\"Division Array:\\n{division_array}\")"
   ]
  },
  {
   "cell_type": "code",
   "execution_count": 28,
   "id": "47be50e9-c687-409f-abc0-45a891047dc8",
   "metadata": {},
   "outputs": [
    {
     "name": "stdout",
     "output_type": "stream",
     "text": [
      "[16777216    65536      256]\n"
     ]
    }
   ],
   "source": [
    "# 12. Which function in Numpy can be used to swap the byte order of an array?\n",
    "# Ans: In NumPy, We can use the .byteswap() method to swap the byte order of an array. This method is useful when dealing with data that has a different endianness (byte order).\n",
    "\n",
    "# Example\n",
    "arr = np.array([1, 256, 65536], dtype=np.int32)\n",
    "swapped_arr = arr.byteswap()\n",
    "print(swapped_arr)"
   ]
  },
  {
   "cell_type": "code",
   "execution_count": 29,
   "id": "d8f3e9b1-99f3-4c92-8810-5550814febb8",
   "metadata": {},
   "outputs": [
    {
     "name": "stdout",
     "output_type": "stream",
     "text": [
      "Inverse matrix:\n",
      " [[-2.   1. ]\n",
      " [ 1.5 -0.5]]\n"
     ]
    }
   ],
   "source": [
    "# 13. What is the significance of the np.linalg.inv function?\n",
    "# Ans: The np.linalg.inv function in NumPy is used to compute the inverse of a square matrix. In linear algebra, the inverse of a matrix.\n",
    "# Example\n",
    "A = np.array([[1, 2], [3, 4]])\n",
    "# Compute the inverse\n",
    "A_inv = np.linalg.inv(A)\n",
    "print(\"Inverse matrix:\\n\", A_inv)"
   ]
  },
  {
   "cell_type": "code",
   "execution_count": 30,
   "id": "fb6e0f72-bfca-4fa5-b10a-ed8c3e11fbc0",
   "metadata": {},
   "outputs": [
    {
     "name": "stdout",
     "output_type": "stream",
     "text": [
      "[[ 0  1  2  3]\n",
      " [ 4  5  6  7]\n",
      " [ 8  9 10 11]]\n"
     ]
    }
   ],
   "source": [
    "# 14. What does the np.reshape function do, and how is it used?\n",
    "# Ans: The np.reshape function in NumPy is used to change the shape of an array without changing its data. This function allows you to transform an array into a different shape, provided that the total number of elements remains constant.\n",
    "\n",
    "# Example of Uses \n",
    "arr = np.arange(12)\n",
    "reshapped_arr = arr.reshape(3,4)\n",
    "print(reshapped_arr)"
   ]
  },
  {
   "cell_type": "code",
   "execution_count": 48,
   "id": "e51b2368-ee44-45cc-a918-41dd4feee855",
   "metadata": {},
   "outputs": [
    {
     "name": "stdout",
     "output_type": "stream",
     "text": [
      "[[24 26 28]\n",
      " [34 46 58]]\n"
     ]
    }
   ],
   "source": [
    "# 15. What is broadcasting in Numpy?\n",
    "# Ans: Broadcasting in NumPy is a set of rules and mechanisms that allow NumPy to perform element-wise operations on arrays of different shapes and sizes. It enables efficient computation by automatically expanding the smaller array to match the shape of the larger array without creating unnecessary copies of data.\n",
    "\n",
    "# example\n",
    "arr1 = np.array([[1,2,3], [11,22,33]])\n",
    "arr2 = np.array([[23,24,25]])\n",
    "\n",
    "Broadcasting_arr = arr1 + arr2\n",
    "print(Broadcasting_arr)"
   ]
  }
 ],
 "metadata": {
  "kernelspec": {
   "display_name": "Python 3 (ipykernel)",
   "language": "python",
   "name": "python3"
  },
  "language_info": {
   "codemirror_mode": {
    "name": "ipython",
    "version": 3
   },
   "file_extension": ".py",
   "mimetype": "text/x-python",
   "name": "python",
   "nbconvert_exporter": "python",
   "pygments_lexer": "ipython3",
   "version": "3.12.0"
  }
 },
 "nbformat": 4,
 "nbformat_minor": 5
}

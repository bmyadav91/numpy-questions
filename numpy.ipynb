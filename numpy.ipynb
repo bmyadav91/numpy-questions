{
 "cells": [
  {
   "cell_type": "code",
   "execution_count": 5,
   "id": "6d2b2557-d7d7-40e1-8966-35cde00c937a",
   "metadata": {},
   "outputs": [],
   "source": [
    "import numpy as np"
   ]
  },
  {
   "cell_type": "raw",
   "id": "7da5d214-ca4f-49b0-bbf8-1a9b99658353",
   "metadata": {},
   "source": [
    "1. What is a Python library? Why ^o we use Python libraries?\n",
    "Ans: A Python library is a collection of pre-written code that developers can use to perform common tasks, making programming more efficient and less error-prone. Libraries provide reusable modules and functions for specific purposes, allowing you to avoid writing code from scratch for common functionalities. Here are some key points about Python libraries:\n",
    "\n",
    "Modularity: Libraries are organized into modules, which are files containing Python definitions and statements. These modules can be imported and used in your programs.\n",
    "\n",
    "Reusability: By using libraries, you can reuse existing, well-tested code instead of reinventing the wheel. This saves time and effort.\n"
   ]
  },
  {
   "cell_type": "raw",
   "id": "ae8c0f68-a83e-4e80-a4a5-c0c5f738cc6c",
   "metadata": {},
   "source": [
    "2. What is the ^ifference between Numpy array an^ List?\n",
    "Ans: NumPy arrays and Python lists are both used to store collections of data, but they have significant differences in terms of functionality, performance, and use cases. Here are the key differences:\n",
    "\n",
    "Data Type Consistency->\n",
    "NumPy Array: Elements in a NumPy array are of the same data type, which allows for efficient storage and operations.\n",
    "Python List: Elements in a Python list can be of different data types (e.g., integers, floats, strings, objects).\n",
    "\n",
    "Memory Usage->\n",
    "NumPy Array: Uses less memory because it stores elements of the same type in a continuous block of memory.\n",
    "Python List: Uses more memory because it stores elements as separate objects with pointers to each element, resulting in additional overhead."
   ]
  },
  {
   "cell_type": "code",
   "execution_count": 9,
   "id": "64562b43-9895-4902-9184-a326c8327c0e",
   "metadata": {},
   "outputs": [
    {
     "name": "stdout",
     "output_type": "stream",
     "text": [
      "Array Shape: (3, 4)\n",
      "Array Size: 12\n",
      "Array Dimension: 2\n"
     ]
    }
   ],
   "source": [
    "# 3. Find the shape, size and dimension of the following array?\n",
    "arr = np.array([[1, 2, 3, 4],\n",
    "                [5, 6, 7, 8],\n",
    "                [9, 10, 11, 12]])\n",
    "\n",
    "print(f\"Array Shape: {arr.shape}\")\n",
    "print(f\"Array Size: {arr.size}\")\n",
    "print(f\"Array Dimension: {arr.ndim}\")"
   ]
  },
  {
   "cell_type": "code",
   "execution_count": 11,
   "id": "1c907f6e-2f1d-44d0-a56f-6a3f767875ad",
   "metadata": {},
   "outputs": [
    {
     "name": "stdout",
     "output_type": "stream",
     "text": [
      "First row is: [1, 2, 3, 4]\n"
     ]
    }
   ],
   "source": [
    "# 4. Write python code to access the first row of the following array?\n",
    "arr = [[1, 2, 3, 4],\n",
    "[5, 6, 7, 8],\n",
    "[9, 10, 11, 12]]\n",
    "\n",
    "print(f\"First row is: {arr[0]}\")"
   ]
  },
  {
   "cell_type": "code",
   "execution_count": 17,
   "id": "1503048b-7765-4aaf-8880-692d033254ec",
   "metadata": {},
   "outputs": [
    {
     "name": "stdout",
     "output_type": "stream",
     "text": [
      "Element at third row and fourth column: 12\n"
     ]
    }
   ],
   "source": [
    "# 5. How do you access the element at the third row and fourth column from the given numpy array?\n",
    "arr = np.array([[1, 2, 3, 4],\n",
    "                [5, 6, 7, 8],\n",
    "                [9, 10, 11, 12]])\n",
    "\n",
    "element = arr[2, 3]\n",
    "\n",
    "print(f\"Element at third row and fourth column: {element}\")"
   ]
  },
  {
   "cell_type": "code",
   "execution_count": 18,
   "id": "9fd9a1ff-4751-48a2-a8b9-91b2ff144336",
   "metadata": {},
   "outputs": [
    {
     "name": "stdout",
     "output_type": "stream",
     "text": [
      "Odd Indexes Are: [ 1  3  5  7  9 11]\n"
     ]
    }
   ],
   "source": [
    "# 6. Write code to extract all odd-indexed elements from the given numpy array?\n",
    "arr = np.array([[1, 2, 3, 4],\n",
    "[5, 6, 7, 8],\n",
    "[9, 10, 11, 12]])\n",
    "\n",
    "array_flatten = arr.flatten()\n",
    "odd_indexed_element = array_flatten[::2]\n",
    "print(f\"Odd Indexes Are: {odd_indexed_element}\")"
   ]
  },
  {
   "cell_type": "code",
   "execution_count": 19,
   "id": "ec67cac9-6948-465c-b624-b8f0db129c58",
   "metadata": {},
   "outputs": [
    {
     "name": "stdout",
     "output_type": "stream",
     "text": [
      "[[0.54094939 0.80716061 0.39193575]\n",
      " [0.50812079 0.37139474 0.32365249]\n",
      " [0.46209211 0.31418204 0.12374039]]\n"
     ]
    }
   ],
   "source": [
    "# 7. How can you generate a random 3x3 matrix with values between 0 and 1?\n",
    "\n",
    "arr = np.random.rand(3,3)\n",
    "print(arr)"
   ]
  },
  {
   "cell_type": "raw",
   "id": "2698c797-2f04-4a81-bf40-5707ce8c7f8b",
   "metadata": {},
   "source": [
    "8. Describe the difference between np.random.rand and np.random.randn?\n",
    "Ans: The functions np.random.rand and np.random.randn from the NumPy library are both used to generate arrays of random numbers, but they generate numbers from different distributions.\n",
    "\n",
    "np.random.rand:\n",
    "np.random.rand(d0, d1, ..., dn) generates an array of shape (d0, d1, ..., dn) with random floats in the half-open interval [0, 1).\n",
    "\n",
    "np.random.randn:\n",
    "np.random.randn(d0, d1, ..., dn) generates an array of shape (d0, d1, ..., dn) with samples from the standard normal distribution."
   ]
  },
  {
   "cell_type": "code",
   "execution_count": 21,
   "id": "6114390e-622e-42bd-948c-a5fc24f2d5d3",
   "metadata": {},
   "outputs": [
    {
     "name": "stdout",
     "output_type": "stream",
     "text": [
      "[[[ 1  2  3  4]\n",
      "  [ 5  6  7  8]\n",
      "  [ 9 10 11 12]]]\n"
     ]
    }
   ],
   "source": [
    "# 9. Write code to increase the dimension of the following array?\n",
    "arr = np.array([[1, 2, 3, 4],\n",
    "[5, 6, 7, 8],\n",
    "[9, 10, 11, 12]])\n",
    "\n",
    "increase_dimension = np.expand_dims(arr, axis = 0)\n",
    "print(increase_dimension)"
   ]
  },
  {
   "cell_type": "code",
   "execution_count": 22,
   "id": "1811e660-3426-4e1f-9a3e-cbce607ea436",
   "metadata": {},
   "outputs": [
    {
     "name": "stdout",
     "output_type": "stream",
     "text": [
      "[[ 1  5  9]\n",
      " [ 2  6 10]\n",
      " [ 3  7 11]\n",
      " [ 4  8 12]]\n"
     ]
    }
   ],
   "source": [
    "# 10. How to transpose the following array in NumPy?\n",
    "arr = np.array([[1, 2, 3, 4],\n",
    "[5, 6, 7, 8],\n",
    "[9, 10, 11, 12]])\n",
    "\n",
    "tenasposed_array = np.transpose(arr)\n",
    "print(tenasposed_array)"
   ]
  },
  {
   "cell_type": "code",
   "execution_count": 39,
   "id": "a2249cf6-995e-46c4-b686-63a15bd06c81",
   "metadata": {},
   "outputs": [
    {
     "name": "stdout",
     "output_type": "stream",
     "text": [
      "Index Wise Multiplication:\n",
      " [[  1   4   9  16]\n",
      " [ 25  36  49  64]\n",
      " [ 81 100 121 144]]\n",
      "Matix multiplication:\n",
      " [[ 70  80  90]\n",
      " [158 184 210]\n",
      " [246 288 330]]\n",
      "Addition Array:\n",
      " [[ 2  4  6  8]\n",
      " [10 12 14 16]\n",
      " [18 20 22 24]]\n",
      "Substraction From B to A:\n",
      " [[ 2  4  6  8]\n",
      " [10 12 14 16]\n",
      " [18 20 22 24]]\n",
      "Division Array:\n",
      "[[1. 1. 1. 1.]\n",
      " [1. 1. 1. 1.]\n",
      " [1. 1. 1. 1.]]\n"
     ]
    }
   ],
   "source": [
    "# 11. Consider the following matrix:\n",
    "Matrix_A2 = np.array([[1, 2, 3, 4], [5, 6, 7, 8],[9, 10, 11, 12]])\n",
    "Matrix_B2 = np.array([[1, 2, 3, 4], [5, 6, 7, 8],[9, 10, 11, 12]])\n",
    "\n",
    "# Idex wise multiplication\n",
    "array_multiply = Matrix_A2 * Matrix_B2\n",
    "print(f\"Index Wise Multiplication:\\n {array_multiply}\")\n",
    "\n",
    "# Matix multiplication\n",
    "Matrix_A2 = np.array([[1, 2, 3, 4], \n",
    "                      [5, 6, 7, 8], \n",
    "                      [9, 10, 11, 12]])\n",
    "\n",
    "Matrix_B2 = np.array([[1, 2, 3], \n",
    "                      [4, 5, 6], \n",
    "                      [7, 8, 9], \n",
    "                      [10, 11, 12]])\n",
    "matrix_multiply = Matrix_A2 @ Matrix_B2\n",
    "print(f\"Matix multiplication:\\n {matrix_multiply}\")\n",
    "\n",
    "# Add both the matrix\n",
    "Matrix_A2 = np.array([[1, 2, 3, 4], [5, 6, 7, 8],[9, 10, 11, 12]])\n",
    "Matrix_B2 = np.array([[1, 2, 3, 4], [5, 6, 7, 8],[9, 10, 11, 12]])\n",
    "addition_array = Matrix_A2 + Matrix_B2\n",
    "print(f\"Addition Array:\\n {addition_array}\")\n",
    "\n",
    "# Subtact matrix B from A\n",
    "substraction_array = Matrix_A2 - Matrix_B2\n",
    "print(f\"Substraction From B to A:\\n {addition_array}\")\n",
    "\n",
    "# Devide Matrix B by A\n",
    "division_array = Matrix_B2 / Matrix_A2\n",
    "print(f\"Division Array:\\n{division_array}\")"
   ]
  },
  {
   "cell_type": "code",
   "execution_count": 42,
   "id": "47be50e9-c687-409f-abc0-45a891047dc8",
   "metadata": {},
   "outputs": [
    {
     "name": "stdout",
     "output_type": "stream",
     "text": [
      "[16777216    65536      256]\n"
     ]
    }
   ],
   "source": [
    "# 12. Which function in Numpy can be used to swap the byte order of an array?\n",
    "arr = np.array([1, 256, 65536], dtype=np.int32)\n",
    "swapped_arr = arr.byteswap()\n",
    "print(swapped_arr)"
   ]
  },
  {
   "cell_type": "raw",
   "id": "84cb9cb3-ff3f-44a5-9c91-ef2e96464a00",
   "metadata": {},
   "source": [
    "# 13. What is the significance of the np.linalg.inv function?\n",
    "The np.linalg.inv function in NumPy is used to compute the inverse of a square matrix. In linear algebra, the inverse of a matrix."
   ]
  },
  {
   "cell_type": "code",
   "execution_count": 43,
   "id": "fb6e0f72-bfca-4fa5-b10a-ed8c3e11fbc0",
   "metadata": {},
   "outputs": [
    {
     "name": "stdout",
     "output_type": "stream",
     "text": [
      "[[ 0  1  2  3]\n",
      " [ 4  5  6  7]\n",
      " [ 8  9 10 11]]\n"
     ]
    }
   ],
   "source": [
    "# 14. What does the np.reshape function do, and how is it used?\n",
    "# Ans: The np.reshape function in NumPy is used to change the shape of an array without changing its data. This function allows you to transform an array into a different shape, provided that the total number of elements remains constant.\n",
    "arr = np.arange(12)\n",
    "reshapped_arr = arr.reshape(3,4)\n",
    "print(reshapped_arr)"
   ]
  },
  {
   "cell_type": "code",
   "execution_count": 48,
   "id": "e51b2368-ee44-45cc-a918-41dd4feee855",
   "metadata": {},
   "outputs": [
    {
     "name": "stdout",
     "output_type": "stream",
     "text": [
      "[[24 26 28]\n",
      " [34 46 58]]\n"
     ]
    }
   ],
   "source": [
    "# 15. What is broadcasting in Numpy?\n",
    "# Ans: Broadcasting in NumPy is a set of rules and mechanisms that allow NumPy to perform element-wise operations on arrays of different shapes and sizes. It enables efficient computation by automatically expanding the smaller array to match the shape of the larger array without creating unnecessary copies of data.\n",
    "\n",
    "# example\n",
    "arr1 = np.array([[1,2,3], [11,22,33]])\n",
    "arr2 = np.array([[23,24,25]])\n",
    "\n",
    "Broadcasting_arr = arr1 + arr2\n",
    "print(Broadcasting_arr)"
   ]
  }
 ],
 "metadata": {
  "kernelspec": {
   "display_name": "Python 3 (ipykernel)",
   "language": "python",
   "name": "python3"
  },
  "language_info": {
   "codemirror_mode": {
    "name": "ipython",
    "version": 3
   },
   "file_extension": ".py",
   "mimetype": "text/x-python",
   "name": "python",
   "nbconvert_exporter": "python",
   "pygments_lexer": "ipython3",
   "version": "3.12.0"
  }
 },
 "nbformat": 4,
 "nbformat_minor": 5
}
